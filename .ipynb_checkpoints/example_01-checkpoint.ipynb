{
 "cells": [
  {
   "cell_type": "code",
   "execution_count": 7,
   "metadata": {},
   "outputs": [],
   "source": [
    "import torch\n",
    "import numpy as np"
   ]
  },
  {
   "cell_type": "code",
   "execution_count": 10,
   "metadata": {},
   "outputs": [],
   "source": [
    "x = torch.Tensor([[1,2],[3,4]])\n",
    "x = torch.from_numpy(np.array([[1,2],[3,4]]))\n",
    "x = np.array([[1,2],[3,4]])\n",
    "# 위 예제는 모두 같은 의미를 가진다"
   ]
  },
  {
   "cell_type": "code",
   "execution_count": 11,
   "metadata": {},
   "outputs": [
    {
     "data": {
      "text/plain": [
       "'파이토치는 텐서들 간에 연산을 수행할 떄마다 동적으로 연산 그래프를 생성\\n   연산의 결과물이 어떤 텐서로부터 어떤 연산을 통해서 왔는지 추척함\\n    최종적으로 스칼라에 역전파 알고리즘을 통해 미분을 수행하도록 한다면\\n    각 텐서는 자기 자신의 자식 노드에 해당하는 텐서와 연산을 자동으로 찾아 계쏙해서 역전파 알고리즘을 수행하도록 한다.'"
      ]
     },
     "execution_count": 11,
     "metadata": {},
     "output_type": "execute_result"
    }
   ],
   "source": [
    "'''파이토치는 텐서들 간에 연산을 수행할 떄마다 동적으로 연산 그래프를 생성\n",
    "   연산의 결과물이 어떤 텐서로부터 어떤 연산을 통해서 왔는지 추척함\n",
    "    최종적으로 스칼라에 역전파 알고리즘을 통해 미분을 수행하도록 한다면\n",
    "    각 텐서는 자기 자신의 자식 노드에 해당하는 텐서와 연산을 자동으로 찾아 계쏙해서 역전파 알고리즘을 수행하도록 한다.'''"
   ]
  },
  {
   "cell_type": "code",
   "execution_count": 12,
   "metadata": {},
   "outputs": [],
   "source": [
    "x = torch.FloatTensor(2, 2)\n",
    "y = torch.FloatTensor(2, 2)\n",
    "\n",
    "z = (x + y) + torch.FloatTensor(2, 2)\n",
    "# 위 연산을 시행한다면 x + y 에 해당하는 텐서(노드) 가 생성 되어 연산 그래프에 할당됨"
   ]
  },
  {
   "cell_type": "code",
   "execution_count": 14,
   "metadata": {},
   "outputs": [],
   "source": [
    "x = torch.FloatTensor(2 ,2)\n",
    "y = torch.FloatTensor(2, 2)\n",
    "\n",
    "y.requires_grad_(True)\n",
    "\n",
    "with torch.no_grad():\n",
    "    z = (x + y) + torch.FloatTensor(2, 2)"
   ]
  },
  {
   "cell_type": "code",
   "execution_count": 19,
   "metadata": {},
   "outputs": [],
   "source": [
    "def liner(x, W, b): #일반적인 Linear Regression에 사용되는 선형계층함수는 다음과 같이 작성할 수 있다\n",
    "    y = torch.mm(x, W) + b # mm은 행렬곱을 의미한다.\n",
    "    return yㅋ"
   ]
  },
  {
   "cell_type": "code",
   "execution_count": 20,
   "metadata": {},
   "outputs": [],
   "source": [
    "x = torch.FloatTensor(16, 10)\n",
    "W = torch.FloatTensor(10, 5)\n",
    "b = torch.FloatTensor(5)\n",
    "\n",
    "y = liner(x, W, b)"
   ]
  },
  {
   "cell_type": "code",
   "execution_count": 24,
   "metadata": {},
   "outputs": [],
   "source": [
    "'''nn.Module을 상속한 사용자 정의 클래스는 다시 내부에 nn.Module을 상속한 클래스 객체를 선언하여 소유할 수있음\n",
    "    nn.Module 객체 안에 변수를 선언하여 사용할 수 있으며 forward()함수를 오버라이드하여 피드포워드 구현도 가능하다\n",
    "    또 위의 linear 함수 대신, MyLinear클래스를 상속받아 사용가능 하다'''\n",
    "import torch.nn as nn\n",
    "\n",
    "class MyLinear(nn.Module):\n",
    "    \n",
    "    def __init__(self, input_size, output_size):\n",
    "        super().__init__()\n",
    "        \n",
    "        self.W = torch.FloatTensor(input_size, output_size)\n",
    "        self.b = torch.FloatTensor(output_size)\n",
    "        \n",
    "        \n",
    "    def forward(self, x):\n",
    "        y = torch.mm(x, self.W) + self.b\n",
    "        return y"
   ]
  },
  {
   "cell_type": "code",
   "execution_count": 25,
   "metadata": {},
   "outputs": [],
   "source": [
    "x = torch.FloatTensor(16, 10)\n",
    "linear = MyLinear(10, 5)\n",
    "y = linear.forward(x)"
   ]
  },
  {
   "cell_type": "code",
   "execution_count": 26,
   "metadata": {},
   "outputs": [
    {
     "name": "stdout",
     "output_type": "stream",
     "text": [
      "[]\n"
     ]
    }
   ],
   "source": [
    "params = [p.size() for p in linear.parameters()]\n",
    "print(params)\n",
    "#신경망 학습 파라미터는 단순한 텐서가 아니기 때문에, 위와 같은 단순한 구조로는 이터레이터로 표현이 불가능하다"
   ]
  },
  {
   "cell_type": "code",
   "execution_count": 27,
   "metadata": {},
   "outputs": [],
   "source": [
    "class MyLinear(nn.Module):\n",
    "    \n",
    "    def __init__(self, input_size, output_size):\n",
    "        super().__init__()\n",
    "        \n",
    "        self.W = nn.Parameter(torch.FloatTensor(input_size, output_size), requires_grad = True)\n",
    "        self.b = nn.Parameter(torch.FloatTensor(output_size), requires_grad = True)\n",
    "        \n",
    "        \n",
    "    def forward(self, x):\n",
    "        y = torch.mm(x, self.W) + self.b\n",
    "        return y"
   ]
  },
  {
   "cell_type": "code",
   "execution_count": 28,
   "metadata": {},
   "outputs": [
    {
     "name": "stdout",
     "output_type": "stream",
     "text": [
      "[torch.Size([10, 5]), torch.Size([5])]\n"
     ]
    }
   ],
   "source": [
    "x = torch.FloatTensor(16, 10)\n",
    "linear = MyLinear(10, 5)\n",
    "y = linear.forward(x)\n",
    "params = [p.size() for p in linear.parameters()]\n",
    "print(params)\n",
    "# nn.Parameter 메소드를 통해 아래와 같이 파라미터 크기를 확인 할 수 있다는 것을 꼭 명심해야 한다."
   ]
  },
  {
   "cell_type": "code",
   "execution_count": null,
   "metadata": {},
   "outputs": [],
   "source": []
  }
 ],
 "metadata": {
  "kernelspec": {
   "display_name": "Python 3",
   "language": "python",
   "name": "python3"
  },
  "language_info": {
   "codemirror_mode": {
    "name": "ipython",
    "version": 3
   },
   "file_extension": ".py",
   "mimetype": "text/x-python",
   "name": "python",
   "nbconvert_exporter": "python",
   "pygments_lexer": "ipython3",
   "version": "3.8.5"
  }
 },
 "nbformat": 4,
 "nbformat_minor": 4
}
