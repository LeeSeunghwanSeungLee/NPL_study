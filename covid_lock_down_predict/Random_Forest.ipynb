{
 "cells": [
  {
   "cell_type": "code",
   "execution_count": 1,
   "metadata": {},
   "outputs": [],
   "source": [
    "import pandas as pd\n",
    "import numpy as np\n",
    "import matplotlib.pyplot as plt\n",
    "import seaborn as sns\n",
    "\n",
    "from sklearn.tree import DecisionTreeClassifier\n",
    "from sklearn.ensemble import RandomForestClassifier\n",
    "from sklearn.model_selection import train_test_split\n",
    "from sklearn.metrics import accuracy_score"
   ]
  },
  {
   "cell_type": "code",
   "execution_count": null,
   "metadata": {},
   "outputs": [],
   "source": [
    "file_name = ''\n",
    "\n",
    "df = pd.read_csv(file_name)\n",
    "df.head(3)"
   ]
  },
  {
   "cell_type": "code",
   "execution_count": null,
   "metadata": {},
   "outputs": [],
   "source": [
    "X, y = df.value[:, 1:21], df.value[:, 21] # 데이터셋 분리하는 작업"
   ]
  },
  {
   "cell_type": "code",
   "execution_count": null,
   "metadata": {},
   "outputs": [],
   "source": [
    "X_train, X_test, y_train, y_test = train_test_split(X, y, test_size = 0.3, random_state = 1)\n",
    "rf = RandomForestClassifier(random_state = 0)\n",
    "rf.fit(X_train, y_train)\n",
    "\n",
    "pred = rf.predict(X_test)\n",
    "print(\"정확도 : {0:.3f}\".format(accuracy_score(y_test, pred)))"
   ]
  },
  {
   "cell_type": "code",
   "execution_count": null,
   "metadata": {},
   "outputs": [],
   "source": [
    "랜덤포레스트의 하이퍼 파라미터 \n",
    "\n",
    "1. n_estimator : 결정트리의 개수, default 로 10 을 표시하며, 많을 수록 좋은 성능이 나오지만, 무조건적인 것은 절대 아님\n",
    "2. max_features : 테이터의 피처를 참조할 비율, 개수를 의미하고, default = auto\n",
    "3. max_depth\n",
    "4. min_samples_leaf\n",
    "5. min_samples_split : 노드를 분할하기 위한 최소한의 데이터 수"
   ]
  },
  {
   "cell_type": "code",
   "execution_count": null,
   "metadata": {},
   "outputs": [],
   "source": [
    "# grid search 적용\n",
    "\n",
    "rf_param_grid = {\n",
    "    'n_estimators' : [100, 200],\n",
    "    'max_depth' : [6, 8, 10, 12],\n",
    "    'min_samples_leaf' : [3, 5, 7, 10],\n",
    "    'min_samples_split' : [2, 3, 5, 10]\n",
    "}\n",
    "\n",
    "\n",
    "rf_grid = GridSearchCV(rf, param_grid : rf_param_grid, scoring = 'accuracy', n_jobs = -1, verbose = 1)\n",
    "rf_grid.fit(X_train, y_train)"
   ]
  },
  {
   "cell_type": "code",
   "execution_count": null,
   "metadata": {},
   "outputs": [],
   "source": [
    "print(\"최고의 평균 정확도 : {0:.4f}\".format(rf_grid.best_score_))\n",
    "print(\"best params : \", rf_grid_best_params_)"
   ]
  },
  {
   "cell_type": "code",
   "execution_count": null,
   "metadata": {},
   "outputs": [],
   "source": [
    "feature_importances = model.feature_importances_\n",
    "\n",
    "ft_importances = pd.Series(feature_importances, index = X_train.columns)\n",
    "ft_importnaces = ft_importances.sort_values(ascending = False)\n",
    "\n",
    "plt.figure(figsize = (12, 10))\n",
    "plt.title(\"feature importnaces\")\n",
    "sns.barplot(x=ft_importnaces, y = X_train.columns)\n",
    "plt.show()"
   ]
  }
 ],
 "metadata": {
  "kernelspec": {
   "display_name": "Python 3",
   "language": "python",
   "name": "python3"
  },
  "language_info": {
   "codemirror_mode": {
    "name": "ipython",
    "version": 3
   },
   "file_extension": ".py",
   "mimetype": "text/x-python",
   "name": "python",
   "nbconvert_exporter": "python",
   "pygments_lexer": "ipython3",
   "version": "3.8.5"
  }
 },
 "nbformat": 4,
 "nbformat_minor": 4
}
